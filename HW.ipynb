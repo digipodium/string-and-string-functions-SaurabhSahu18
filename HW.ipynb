{
  "nbformat": 4,
  "nbformat_minor": 0,
  "metadata": {
    "colab": {
      "name": "HW.ipynb",
      "provenance": [],
      "collapsed_sections": [],
      "authorship_tag": "ABX9TyM7c9Qd7AdYM6XwEAvjkoBU",
      "include_colab_link": true
    },
    "kernelspec": {
      "name": "python3",
      "display_name": "Python 3"
    },
    "language_info": {
      "name": "python"
    }
  },
  "cells": [
    {
      "cell_type": "markdown",
      "metadata": {
        "id": "view-in-github",
        "colab_type": "text"
      },
      "source": [
        "<a href=\"https://colab.research.google.com/github/digipodium/string-and-string-functions-SaurabhSahu18/blob/main/HW.ipynb\" target=\"_parent\"><img src=\"https://colab.research.google.com/assets/colab-badge.svg\" alt=\"Open In Colab\"/></a>"
      ]
    },
    {
      "cell_type": "code",
      "metadata": {
        "colab": {
          "base_uri": "https://localhost:8080/"
        },
        "id": "SYJIvRxp4KdU",
        "outputId": "a2ba7fb4-c243-41f5-e5e8-a5fb1986d1ec"
      },
      "source": [
        "#creating string and print it\n",
        "string=str(input(\"enter any string:\"))\n",
        "print(string)"
      ],
      "execution_count": null,
      "outputs": [
        {
          "output_type": "stream",
          "name": "stdout",
          "text": [
            "enter any string:hello\n",
            "hello\n"
          ]
        }
      ]
    },
    {
      "cell_type": "code",
      "metadata": {
        "colab": {
          "base_uri": "https://localhost:8080/"
        },
        "id": "SeiNdshs5K4R",
        "outputId": "315077df-285f-4bb3-ce69-9a0f5c11413f"
      },
      "source": [
        "#creating string and print it is length\n",
        "s=str(input(\"enter any string:\"))\n",
        "print(len(s))"
      ],
      "execution_count": null,
      "outputs": [
        {
          "output_type": "stream",
          "name": "stdout",
          "text": [
            "enter any stringsaurabh\n",
            "7\n"
          ]
        }
      ]
    },
    {
      "cell_type": "code",
      "metadata": {
        "colab": {
          "base_uri": "https://localhost:8080/"
        },
        "id": "Sx95y_jq5eGB",
        "outputId": "07273b64-aa43-4a8f-b94e-d85c3ad4293e"
      },
      "source": [
        "#print the last word of the string python is great and using slices\n",
        "a=\"Python is great\"\n",
        "print(a[10:15])"
      ],
      "execution_count": null,
      "outputs": [
        {
          "output_type": "stream",
          "name": "stdout",
          "text": [
            "great\n"
          ]
        }
      ]
    },
    {
      "cell_type": "code",
      "metadata": {
        "colab": {
          "base_uri": "https://localhost:8080/"
        },
        "id": "2kfxtXYi655u",
        "outputId": "926f3573-ec25-45a8-b484-c627474927d8"
      },
      "source": [
        "#print the each word in different line of string python is everywhere\n",
        "b=\"python is everywhere\"\n",
        "for word in b.split():\n",
        "  print(word)"
      ],
      "execution_count": null,
      "outputs": [
        {
          "output_type": "stream",
          "name": "stdout",
          "text": [
            "python\n",
            "is\n",
            "everywhere\n"
          ]
        }
      ]
    },
    {
      "cell_type": "code",
      "metadata": {
        "colab": {
          "base_uri": "https://localhost:8080/"
        },
        "id": "rmyxoIZF_N2z",
        "outputId": "92cc372d-b585-4cf4-947c-fb92299cff44"
      },
      "source": [
        "#print the string hello world! in reverse.\n",
        "rev=\"hello world!\"\n",
        "print(rev[::-1])"
      ],
      "execution_count": null,
      "outputs": [
        {
          "output_type": "stream",
          "name": "stdout",
          "text": [
            "!dlrow olleh\n"
          ]
        }
      ]
    },
    {
      "cell_type": "code",
      "metadata": {
        "colab": {
          "base_uri": "https://localhost:8080/"
        },
        "id": "oI_lmQTuANqM",
        "outputId": "5471b4b5-d9e1-4cfc-f931-cac24c81c0f0"
      },
      "source": [
        "#convert the string how are you! in uppercase.\n",
        "up=\"How are you\"\n",
        "print(up.upper())"
      ],
      "execution_count": null,
      "outputs": [
        {
          "output_type": "stream",
          "name": "stdout",
          "text": [
            "HOW ARE YOU\n"
          ]
        }
      ]
    },
    {
      "cell_type": "code",
      "metadata": {
        "colab": {
          "base_uri": "https://localhost:8080/"
        },
        "id": "UDsQcsaVCFoP",
        "outputId": "22dd3458-ae41-4659-964e-093e3dd380c7"
      },
      "source": [
        "#convert string into lower case. \n",
        "l=\"HOW IS IT GOING\"\n",
        "print(l.lower())"
      ],
      "execution_count": null,
      "outputs": [
        {
          "output_type": "stream",
          "name": "stdout",
          "text": [
            "how is it going\n"
          ]
        }
      ]
    },
    {
      "cell_type": "code",
      "metadata": {
        "id": "7czT7hlmE92g",
        "colab": {
          "base_uri": "https://localhost:8080/"
        },
        "outputId": "d85cf3c4-33e9-4cc1-e3fb-146809d54c85"
      },
      "source": [
        "#join the following list by space() and print the result\n",
        "word=['Python','is','easy','to','learn']\n",
        "print(' '.join(word))"
      ],
      "execution_count": null,
      "outputs": [
        {
          "output_type": "stream",
          "name": "stdout",
          "text": [
            "Python is easy to learn\n"
          ]
        }
      ]
    },
    {
      "cell_type": "code",
      "metadata": {
        "colab": {
          "base_uri": "https://localhost:8080/"
        },
        "id": "Mrvz9cocQNKh",
        "outputId": "2adba822-baee-4811-837c-5cd1cdfc87fe"
      },
      "source": [
        "#ask user to enter a string and check if the string contains fyi.\n",
        "s=str(input(\"enter string:\"))\n",
        "s1=\"fyi\"\n",
        "if s1 in s:\n",
        "  print(\"found\")\n",
        "else:\n",
        "  print(\"fyi is not present\")"
      ],
      "execution_count": null,
      "outputs": [
        {
          "output_type": "stream",
          "name": "stdout",
          "text": [
            "enter string:hii gyi fyi\n",
            "found\n"
          ]
        }
      ]
    },
    {
      "cell_type": "code",
      "metadata": {
        "colab": {
          "base_uri": "https://localhost:8080/"
        },
        "id": "3EW2AShzMYX5",
        "outputId": "00f3684b-6a8f-490f-da56-d9f080e03417"
      },
      "source": [
        "#Print a variable with some text using a single print fuction output should look like following.the variable is 15. \n",
        "a=int(input())\n",
        "print(f'the variable is {a}')"
      ],
      "execution_count": null,
      "outputs": [
        {
          "output_type": "stream",
          "name": "stdout",
          "text": [
            "15\n",
            "the variable is 15\n"
          ]
        }
      ]
    },
    {
      "cell_type": "code",
      "metadata": {
        "colab": {
          "base_uri": "https://localhost:8080/"
        },
        "id": "PS4SBgqIDULl",
        "outputId": "2945ccf0-4070-4da9-c74e-a0a645b489d7"
      },
      "source": [
        "#print this string to move to newline '\\n' is used.\n",
        "a1=\"to move to newline '\\\\n' is used.\"\n",
        "print(a1)"
      ],
      "execution_count": null,
      "outputs": [
        {
          "output_type": "stream",
          "name": "stdout",
          "text": [
            "to move to newline '\\n' is used.\n"
          ]
        }
      ]
    },
    {
      "cell_type": "code",
      "metadata": {
        "colab": {
          "base_uri": "https://localhost:8080/"
        },
        "id": "iDW4k4JMDsCK",
        "outputId": "c6908156-d1cb-4168-9e07-f9eb2e2e004a"
      },
      "source": [
        "#print numbers from 1 to 9 each on a seperate line foolowed by a dot,output should look like the following.\n",
        "n=\"\\n1.\\n2.\\n3.\\n4.\\n5.\\n6.\\n7.\\n8.\\n9.\"\n",
        "print(n)"
      ],
      "execution_count": null,
      "outputs": [
        {
          "output_type": "stream",
          "name": "stdout",
          "text": [
            "\n",
            "1.\n",
            "2.\n",
            "3.\n",
            "4.\n",
            "5.\n",
            "6.\n",
            "7.\n",
            "8.\n",
            "9.\n"
          ]
        }
      ]
    },
    {
      "cell_type": "code",
      "metadata": {
        "colab": {
          "base_uri": "https://localhost:8080/"
        },
        "id": "qgljiNclPS5m",
        "outputId": "610c09a6-2799-4755-c48a-a240635db39a"
      },
      "source": [
        "#concatenate the following string and print the result.\n",
        "s1=str(input())\n",
        "s2=str(input())\n",
        "s3=str(input())\n",
        "print(s1+\" \"+s2+\" \"+s3)"
      ],
      "execution_count": null,
      "outputs": [
        {
          "output_type": "stream",
          "name": "stdout",
          "text": [
            "python\n",
            "is\n",
            "great\n",
            "python is great\n"
          ]
        }
      ]
    },
    {
      "cell_type": "code",
      "metadata": {
        "id": "5N7L3WHCQzKF",
        "colab": {
          "base_uri": "https://localhost:8080/"
        },
        "outputId": "d3a110fe-fc55-40d9-82f3-f7e2815fe567"
      },
      "source": [
        "#print # 20 times without using a loop\n",
        "t=[\"#\"]*20\n",
        "print(t)\n"
      ],
      "execution_count": null,
      "outputs": [
        {
          "output_type": "stream",
          "name": "stdout",
          "text": [
            "['#', '#', '#', '#', '#', '#', '#', '#', '#', '#', '#', '#', '#', '#', '#', '#', '#', '#', '#', '#']\n"
          ]
        }
      ]
    },
    {
      "cell_type": "code",
      "metadata": {
        "colab": {
          "base_uri": "https://localhost:8080/"
        },
        "id": "QZI6POc4vRYE",
        "outputId": "aeb82acf-f180-4200-f64b-10fc58e1a5f6"
      },
      "source": [
        "#check if the user input is a number\n",
        "n=input(\"enter any number\")\n",
        "if n.isnumeric():\n",
        "  print(\"valid input\")\n",
        "else:\n",
        "  print(\"invalid input value\")"
      ],
      "execution_count": null,
      "outputs": [
        {
          "output_type": "stream",
          "name": "stdout",
          "text": [
            "enter any number12q\n",
            "invalid input value\n"
          ]
        }
      ]
    },
    {
      "cell_type": "code",
      "metadata": {
        "colab": {
          "base_uri": "https://localhost:8080/"
        },
        "id": "4FhM8D-aZzTQ",
        "outputId": "dad26920-22a1-4ca5-e01c-a91e1a05c8e5"
      },
      "source": [
        "#print the each word in different line of string python is everywhere\n",
        "s=str(input())\n",
        "for i in s.split():\n",
        "  print(i)"
      ],
      "execution_count": null,
      "outputs": [
        {
          "output_type": "stream",
          "name": "stdout",
          "text": [
            "python is used everyone\n",
            "python\n",
            "is\n",
            "used\n",
            "everyone\n"
          ]
        }
      ]
    },
    {
      "cell_type": "code",
      "metadata": {
        "colab": {
          "base_uri": "https://localhost:8080/"
        },
        "id": "GG4eFTJebalY",
        "outputId": "077f5932-b7d0-4937-83ca-893a85b59d01"
      },
      "source": [
        "#Ask to user to input a string and check if the string ends with '?'.\n",
        "s=str(input())\n",
        "m=\"?\"\n",
        "if m in s:\n",
        "  print(\"valid\",s)\n",
        "else:\n",
        "  print(\"invalid\")"
      ],
      "execution_count": null,
      "outputs": [
        {
          "output_type": "stream",
          "name": "stdout",
          "text": [
            "saurabh?\n",
            "valid saurabh?\n"
          ]
        }
      ]
    },
    {
      "cell_type": "code",
      "metadata": {
        "colab": {
          "base_uri": "https://localhost:8080/"
        },
        "id": "PuTEV4YeGLXi",
        "outputId": "0cec62de-a3ba-4a19-c708-4ef09b7dbb91"
      },
      "source": [
        "#Ask user to input a string and print how many times e appeared in the string.\n",
        "s1=str(input())\n",
        "if \"e\" in s1:\n",
        "  print(s1.count(\"e\"))"
      ],
      "execution_count": null,
      "outputs": [
        {
          "output_type": "stream",
          "name": "stdout",
          "text": [
            "hello\n",
            "1\n"
          ]
        }
      ]
    },
    {
      "cell_type": "code",
      "metadata": {
        "id": "oNVfOb3zdAv4",
        "colab": {
          "base_uri": "https://localhost:8080/"
        },
        "outputId": "6a1d7a9d-6869-4dd6-f990-6517ba821031"
      },
      "source": [
        "#Extract names from the following string and store them in a list\n",
        "names=\"Joe,David,Mark,Tom,Chris,Robert\"\n",
        "print(list(names.split(\",\")))"
      ],
      "execution_count": null,
      "outputs": [
        {
          "output_type": "stream",
          "name": "stdout",
          "text": [
            "['Joe', 'David', 'Mark', 'Tom', 'Chris', 'Robert']\n"
          ]
        }
      ]
    },
    {
      "cell_type": "code",
      "metadata": {
        "colab": {
          "base_uri": "https://localhost:8080/"
        },
        "id": "gXha8IusnA2n",
        "outputId": "49198666-fdd1-4912-ef71-30ade270cda0"
      },
      "source": [
        "#remove all the special character and numbers from the following string\n",
        "a=str(input())\n",
        "text='%p34@yl*-*!t68h#&on404'\n",
        "for b in a:\n",
        "  if b not in text:\n",
        "    print(b,end=\"\")"
      ],
      "execution_count": null,
      "outputs": [
        {
          "output_type": "stream",
          "name": "stdout",
          "text": [
            "saurabh3\n",
            "saurab"
          ]
        }
      ]
    },
    {
      "cell_type": "code",
      "metadata": {
        "colab": {
          "base_uri": "https://localhost:8080/"
        },
        "id": "JhQGo_OkGuhm",
        "outputId": "7e278476-c1af-442e-b728-22183e92051f"
      },
      "source": [
        "#Ask user to input string print found if any of the character is upper  case.\n",
        "str=input(\"enter a string :\")\n",
        "for i in str:\n",
        "  if i.isupper():\n",
        "    print(\"found\")\n",
        "    break\n",
        "  else:\n",
        "    print(\"not found\")"
      ],
      "execution_count": null,
      "outputs": [
        {
          "output_type": "stream",
          "name": "stdout",
          "text": [
            "enter a string :HELLO\n",
            "found\n"
          ]
        }
      ]
    },
    {
      "cell_type": "code",
      "metadata": {
        "id": "o-mmisq5rEj-",
        "colab": {
          "base_uri": "https://localhost:8080/"
        },
        "outputId": "975b73cc-9a35-4d99-9b0b-21cd91542dc0"
      },
      "source": [
        "# remove the exta spaces in beginning and in the end of the following.\n",
        "#st=str(input(\"enter any string\"))\n",
        "st='     this is not a good string'\n",
        "st1=\"\"\n",
        "s=st.split()\n",
        "for i in range(0,len(s)):\n",
        "  st1=st1+s[i]+\" \"\n",
        "print(st1)"
      ],
      "execution_count": null,
      "outputs": [
        {
          "output_type": "stream",
          "name": "stdout",
          "text": [
            "this is not a good string \n"
          ]
        }
      ]
    },
    {
      "cell_type": "code",
      "metadata": {
        "colab": {
          "base_uri": "https://localhost:8080/"
        },
        "id": "EJYG0Fsfy9Vc",
        "outputId": "eaec9403-163a-4721-f7a7-cfff4920f260"
      },
      "source": [
        "#Remove the extra spaces in beginning and in the end of the following string\n",
        "string=\"      this is not a good string    \"\n",
        "print(string.strip())"
      ],
      "execution_count": null,
      "outputs": [
        {
          "output_type": "stream",
          "name": "stdout",
          "text": [
            "this is not a good string\n"
          ]
        }
      ]
    },
    {
      "cell_type": "code",
      "metadata": {
        "id": "deqARPgFU1PL",
        "colab": {
          "base_uri": "https://localhost:8080/"
        },
        "outputId": "cbeded31-d038-4209-db94-b85d01dc40e8"
      },
      "source": [
        "#calculate the average word length of the following paragraph.\n",
        "sen=\"Hi my name is Jeff Bezos\"\n",
        "words=sen.split()\n",
        "avg=sum(len(word) for word in words)/len(words)\n",
        "print('%.2f'%avg)"
      ],
      "execution_count": null,
      "outputs": [
        {
          "output_type": "stream",
          "name": "stdout",
          "text": [
            "3.17\n"
          ]
        }
      ]
    }
  ]
}